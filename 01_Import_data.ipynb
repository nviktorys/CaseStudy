{
  "nbformat": 4,
  "nbformat_minor": 0,
  "metadata": {
    "colab": {
      "name": "01_Import_data.ipynb",
      "provenance": [],
      "collapsed_sections": [],
      "mount_file_id": "16HGomD2ULCTbj3cfZ_HHt_KInWkvWgWq",
      "authorship_tag": "ABX9TyME21Zd+gG3++HRDS/0JubO",
      "include_colab_link": true
    },
    "kernelspec": {
      "name": "python3",
      "display_name": "Python 3"
    },
    "language_info": {
      "name": "python"
    }
  },
  "cells": [
    {
      "cell_type": "markdown",
      "metadata": {
        "id": "view-in-github",
        "colab_type": "text"
      },
      "source": [
        "<a href=\"https://colab.research.google.com/github/nviktorys/InterviewCaseStudy/blob/main/01_Import_data.ipynb\" target=\"_parent\"><img src=\"https://colab.research.google.com/assets/colab-badge.svg\" alt=\"Open In Colab\"/></a>"
      ]
    },
    {
      "cell_type": "markdown",
      "source": [
        "# New section"
      ],
      "metadata": {
        "id": "sHA5h2gXdYSF"
      }
    },
    {
      "cell_type": "code",
      "source": [
        "import os"
      ],
      "metadata": {
        "id": "HUGhIeiZxrWi"
      },
      "execution_count": 1,
      "outputs": []
    },
    {
      "cell_type": "markdown",
      "source": [
        "Create kaggle.json"
      ],
      "metadata": {
        "id": "nH-zp8W6xdrY"
      }
    },
    {
      "cell_type": "code",
      "source": [
        "%cd ~/\n",
        "%mkdir ~/.kaggle\n",
        "!touch ~/.kaggle/kaggle.json"
      ],
      "metadata": {
        "colab": {
          "base_uri": "https://localhost:8080/"
        },
        "id": "6Xi0zlgELIBJ",
        "outputId": "deb66619-ea4c-43b5-f2cc-7a62df4aa177"
      },
      "execution_count": 65,
      "outputs": [
        {
          "output_type": "stream",
          "name": "stdout",
          "text": [
            "mkdir: cannot create directory ‘/root/.kaggle’: File exists\n"
          ]
        }
      ]
    },
    {
      "cell_type": "code",
      "source": [
        "import json\n",
        "!chmod 600 ~/.kaggle/kaggle.json"
      ],
      "metadata": {
        "id": "1BZaMj40Dpqr"
      },
      "execution_count": 73,
      "outputs": []
    },
    {
      "cell_type": "markdown",
      "source": [
        "Load data from Kaggle"
      ],
      "metadata": {
        "id": "zRMGprGjxxEQ"
      }
    },
    {
      "cell_type": "code",
      "source": [
        "# Change directory\n",
        "%cd ../content/drive/MyDrive/Colab Notebooks/Kaggle/NLP0\n",
        "!pwd"
      ],
      "metadata": {
        "colab": {
          "base_uri": "https://localhost:8080/"
        },
        "id": "pJX92uIX2tgE",
        "outputId": "7085f104-d6d7-42d5-9b1e-9285ca63e7da"
      },
      "execution_count": 2,
      "outputs": [
        {
          "output_type": "stream",
          "name": "stdout",
          "text": [
            "/content/drive/MyDrive/Colab Notebooks/Kaggle/NLP0\n",
            "/content/drive/MyDrive/Colab Notebooks/Kaggle/NLP0\n"
          ]
        }
      ]
    },
    {
      "cell_type": "code",
      "source": [
        "os.environ['KAGGLE_USERNAME'] = 'viktorian'\n",
        "os.environ['KAGGLE_KEY'] = 'f69511432fe2dbab2274adef5a8d2657'"
      ],
      "metadata": {
        "id": "qTPGCiFMvtTH"
      },
      "execution_count": 83,
      "outputs": []
    },
    {
      "cell_type": "code",
      "source": [
        "#!pip install kaggle\n",
        "#!cd ~/.kaggle\n",
        "!kaggle competitions download -c nlp-getting-started"
      ],
      "metadata": {
        "colab": {
          "base_uri": "https://localhost:8080/"
        },
        "id": "TENRK-aBkill",
        "outputId": "e524f6fb-23c4-441a-f65e-66294fd9659f"
      },
      "execution_count": 84,
      "outputs": [
        {
          "output_type": "stream",
          "name": "stdout",
          "text": [
            "Downloading nlp-getting-started.zip to /content/drive/MyDrive/Colab Notebooks/Kaggle/NLP0\n",
            "\r  0% 0.00/593k [00:00<?, ?B/s]\n",
            "\r100% 593k/593k [00:00<00:00, 18.7MB/s]\n"
          ]
        }
      ]
    },
    {
      "cell_type": "markdown",
      "source": [
        "Create Git repository"
      ],
      "metadata": {
        "id": "zZKq2RxX12nZ"
      }
    },
    {
      "cell_type": "markdown",
      "source": [
        "Initialise local repository"
      ],
      "metadata": {
        "id": "0hr4ckgw2uJc"
      }
    },
    {
      "cell_type": "code",
      "source": [
        "!git init "
      ],
      "metadata": {
        "colab": {
          "base_uri": "https://localhost:8080/"
        },
        "id": "Iok7cmdFza4U",
        "outputId": "8cb9c03e-36c4-4a98-8274-4dff05e6f8ca"
      },
      "execution_count": 3,
      "outputs": [
        {
          "output_type": "stream",
          "name": "stdout",
          "text": [
            "Initialized empty Git repository in /content/drive/MyDrive/Colab Notebooks/Kaggle/NLP0/.git/\n"
          ]
        }
      ]
    },
    {
      "cell_type": "code",
      "source": [
        "%ls -a"
      ],
      "metadata": {
        "colab": {
          "base_uri": "https://localhost:8080/"
        },
        "id": "FZB5W9ax0RSI",
        "outputId": "ca94bd26-5fa3-4ad7-aa3c-100c7b209d12"
      },
      "execution_count": 4,
      "outputs": [
        {
          "output_type": "stream",
          "name": "stdout",
          "text": [
            "01_Import_data.ipynb  kaggle.json  nlp-getting-started.zip\n",
            "\u001b[0m\u001b[01;34m.git\u001b[0m/                 \u001b[01;34mNLP0\u001b[0m/        \u001b[01;34mnlp_git\u001b[0m/\n"
          ]
        }
      ]
    },
    {
      "cell_type": "code",
      "source": [
        "!git status\n",
        "!git add .\n",
        "!git status"
      ],
      "metadata": {
        "colab": {
          "base_uri": "https://localhost:8080/"
        },
        "id": "Gw81I4VD0bZR",
        "outputId": "1ddea8cc-729e-42e0-d75f-ef1a564d9016"
      },
      "execution_count": 5,
      "outputs": [
        {
          "output_type": "stream",
          "name": "stdout",
          "text": [
            "On branch master\n",
            "\n",
            "No commits yet\n",
            "\n",
            "Untracked files:\n",
            "  (use \"git add <file>...\" to include in what will be committed)\n",
            "\n",
            "\t\u001b[31m01_Import_data.ipynb\u001b[m\n",
            "\t\u001b[31mNLP0/\u001b[m\n",
            "\t\u001b[31mkaggle.json\u001b[m\n",
            "\t\u001b[31mnlp-getting-started.zip\u001b[m\n",
            "\n",
            "nothing added to commit but untracked files present (use \"git add\" to track)\n",
            "warning: adding embedded git repository: NLP0\n",
            "hint: You've added another git repository inside your current repository.\n",
            "hint: Clones of the outer repository will not contain the contents of\n",
            "hint: the embedded repository and will not know how to obtain it.\n",
            "hint: If you meant to add a submodule, use:\n",
            "hint: \n",
            "hint: \tgit submodule add <url> NLP0\n",
            "hint: \n",
            "hint: If you added this path by mistake, you can remove it from the\n",
            "hint: index with:\n",
            "hint: \n",
            "hint: \tgit rm --cached NLP0\n",
            "hint: \n",
            "hint: See \"git help submodule\" for more information.\n",
            "On branch master\n",
            "\n",
            "No commits yet\n",
            "\n",
            "Changes to be committed:\n",
            "  (use \"git rm --cached <file>...\" to unstage)\n",
            "\n",
            "\t\u001b[32mnew file:   01_Import_data.ipynb\u001b[m\n",
            "\t\u001b[32mnew file:   NLP0\u001b[m\n",
            "\t\u001b[32mnew file:   kaggle.json\u001b[m\n",
            "\t\u001b[32mnew file:   nlp-getting-started.zip\u001b[m\n",
            "\n"
          ]
        }
      ]
    },
    {
      "cell_type": "markdown",
      "source": [
        "Link to remote repository"
      ],
      "metadata": {
        "id": "eEFxVyCR2xRt"
      }
    },
    {
      "cell_type": "code",
      "source": [
        "!git commit -m 'Initial commit, load data'"
      ],
      "metadata": {
        "colab": {
          "base_uri": "https://localhost:8080/"
        },
        "id": "aN5R_07C0sn7",
        "outputId": "2df32a40-c2f2-4347-f251-dca7521f1e66"
      },
      "execution_count": 8,
      "outputs": [
        {
          "output_type": "stream",
          "name": "stdout",
          "text": [
            "[master (root-commit) 3d01c36] Initial commit, load data\n",
            " 4 files changed, 3 insertions(+)\n",
            " create mode 100644 01_Import_data.ipynb\n",
            " create mode 160000 NLP0\n",
            " create mode 100644 kaggle.json\n",
            " create mode 100644 nlp-getting-started.zip\n"
          ]
        }
      ]
    },
    {
      "cell_type": "code",
      "source": [
        "!git remote add git@github.com:nviktorys/NLP0.git"
      ],
      "metadata": {
        "colab": {
          "base_uri": "https://localhost:8080/"
        },
        "id": "QjI2PDNFzRbP",
        "outputId": "c152f50c-27c7-4a54-f917-14543bf85c18"
      },
      "execution_count": 59,
      "outputs": [
        {
          "output_type": "stream",
          "name": "stdout",
          "text": [
            "usage: git remote add [<options>] <name> <url>\n",
            "\n",
            "    -f, --fetch           fetch the remote branches\n",
            "    --tags                import all tags and associated objects when fetching\n",
            "                          or do not fetch any tag at all (--no-tags)\n",
            "    -t, --track <branch>  branch(es) to track\n",
            "    -m, --master <branch>\n",
            "                          master branch\n",
            "    --mirror[=<push|fetch>]\n",
            "                          set up remote as a mirror to push to or fetch from\n",
            "\n"
          ]
        }
      ]
    },
    {
      "cell_type": "code",
      "source": [
        "!git remote add origin https://github.com/nviktorys/NLP0.git"
      ],
      "metadata": {
        "id": "r8zI4xm64ZSg"
      },
      "execution_count": 63,
      "outputs": []
    },
    {
      "cell_type": "code",
      "source": [
        "!git config --global user.email \"novikovavs@gmail.com\"\n",
        "!git config --global user.name \"nviktorys\""
      ],
      "metadata": {
        "id": "cQiIbJvi2Pgh"
      },
      "execution_count": 64,
      "outputs": []
    },
    {
      "cell_type": "code",
      "source": [
        "!git push https://github.com/nviktorys/NLP0.git "
      ],
      "metadata": {
        "colab": {
          "base_uri": "https://localhost:8080/"
        },
        "id": "0OASmOeE2fp6",
        "outputId": "dc99185e-e78a-41aa-aa23-cfb64bf049d2"
      },
      "execution_count": 65,
      "outputs": [
        {
          "output_type": "stream",
          "name": "stdout",
          "text": [
            "fatal: could not read Username for 'https://github.com': No such device or address\n"
          ]
        }
      ]
    },
    {
      "cell_type": "code",
      "source": [
        "!git push --set-upstream nlp0 master"
      ],
      "metadata": {
        "colab": {
          "base_uri": "https://localhost:8080/"
        },
        "id": "uliK38Cm7Sa4",
        "outputId": "45e82473-d23d-4dd7-8aa6-c592f4a9fd4f"
      },
      "execution_count": 66,
      "outputs": [
        {
          "output_type": "stream",
          "name": "stdout",
          "text": [
            "fatal: could not read Username for 'https://github.com': No such device or address\n"
          ]
        }
      ]
    },
    {
      "cell_type": "code",
      "source": [
        "!git push -u nlp0 master "
      ],
      "metadata": {
        "colab": {
          "base_uri": "https://localhost:8080/"
        },
        "id": "jHXirvE73gqE",
        "outputId": "b2df6e68-7c49-4e64-b40d-b6acc6b64e2a"
      },
      "execution_count": 67,
      "outputs": [
        {
          "output_type": "stream",
          "name": "stdout",
          "text": [
            "fatal: could not read Username for 'https://github.com': No such device or address\n"
          ]
        }
      ]
    },
    {
      "cell_type": "code",
      "source": [
        "!git remote set-url origin git@github.com:nviktorys/nlp0.git"
      ],
      "metadata": {
        "id": "Vv4hnkNY5xgd"
      },
      "execution_count": 25,
      "outputs": []
    },
    {
      "cell_type": "code",
      "source": [
        "!git config --global credential.helper store"
      ],
      "metadata": {
        "id": "3j5ALdly-sFS"
      },
      "execution_count": 56,
      "outputs": []
    },
    {
      "cell_type": "code",
      "source": [
        "!git remote rm origin"
      ],
      "metadata": {
        "id": "X7DxIJiHA2bS"
      },
      "execution_count": 61,
      "outputs": []
    },
    {
      "cell_type": "code",
      "source": [
        "!git remote show origin"
      ],
      "metadata": {
        "colab": {
          "base_uri": "https://localhost:8080/"
        },
        "id": "IaO7Aqyd_BN3",
        "outputId": "47a331fd-e2ec-44de-b186-49fcaa8bce8a"
      },
      "execution_count": 62,
      "outputs": [
        {
          "output_type": "stream",
          "name": "stdout",
          "text": [
            "fatal: 'origin' does not appear to be a git repository\n",
            "fatal: Could not read from remote repository.\n",
            "\n",
            "Please make sure you have the correct access rights\n",
            "and the repository exists.\n"
          ]
        }
      ]
    }
  ]
}